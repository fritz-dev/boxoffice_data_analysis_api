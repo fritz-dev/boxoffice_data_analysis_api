{
 "cells": [
  {
   "cell_type": "code",
   "execution_count": 1,
   "metadata": {},
   "outputs": [],
   "source": [
    "import os\n",
    "import pandas as pd"
   ]
  },
  {
   "cell_type": "code",
   "execution_count": 2,
   "metadata": {},
   "outputs": [],
   "source": [
    "cwd = os.getcwd()"
   ]
  },
  {
   "cell_type": "code",
   "execution_count": 76,
   "metadata": {},
   "outputs": [],
   "source": [
    "data_dir = os.path.join(cwd,'data')\n",
    "cache_dir = os.path.join(cwd,'cache')\n",
    "os.makedirs(cache_dir,exist_ok=True)"
   ]
  },
  {
   "cell_type": "code",
   "execution_count": 4,
   "metadata": {},
   "outputs": [
    {
     "name": "stdout",
     "output_type": "stream",
     "text": [
      "2000.csv\n",
      "2001.csv\n",
      "2002.csv\n",
      "2003.csv\n",
      "2004.csv\n",
      "2005.csv\n",
      "2010.csv\n",
      "2011.csv\n",
      "2012.csv\n",
      "2013.csv\n",
      "2014.csv\n",
      "2015.csv\n",
      "2016.csv\n",
      "2017.csv\n",
      "2018.csv\n",
      "2019.csv\n",
      "2020.csv\n"
     ]
    }
   ],
   "source": [
    "for filename in os.listdir(data_dir):\n",
    "    print(filename)"
   ]
  },
  {
   "cell_type": "code",
   "execution_count": 5,
   "metadata": {},
   "outputs": [],
   "source": [
    "df = pd.read_csv(os.path.join(data_dir,'2010.csv'))"
   ]
  },
  {
   "cell_type": "code",
   "execution_count": 12,
   "metadata": {},
   "outputs": [],
   "source": [
    "df['Year'] = 2010"
   ]
  },
  {
   "cell_type": "code",
   "execution_count": 36,
   "metadata": {},
   "outputs": [],
   "source": [
    "#my_entire_df = pd.DataFrame()\n",
    "\n",
    "my_df = []\n",
    "csv_files = [x for x in os.listdir(data_dir) if x.endswith(\".csv\")]\n",
    "for filename in csv_files:\n",
    "    #print(filename)\n",
    "    year = filename.replace(\".csv\",\"\")\n",
    "    csv_path = os.path.join(data_dir,filename)\n",
    "    this_df = pd.read_csv(csv_path)\n",
    "    this_df['filename'] = filename\n",
    "    this_df['year'] = year\n",
    "    my_df.append(this_df)\n"
   ]
  },
  {
   "cell_type": "code",
   "execution_count": 68,
   "metadata": {},
   "outputs": [],
   "source": [
    "entire_df = pd.concat(my_df) # concat list to dataframe"
   ]
  },
  {
   "cell_type": "code",
   "execution_count": 74,
   "metadata": {},
   "outputs": [
    {
     "data": {
      "text/html": [
       "<div>\n",
       "<style scoped>\n",
       "    .dataframe tbody tr th:only-of-type {\n",
       "        vertical-align: middle;\n",
       "    }\n",
       "\n",
       "    .dataframe tbody tr th {\n",
       "        vertical-align: top;\n",
       "    }\n",
       "\n",
       "    .dataframe thead th {\n",
       "        text-align: right;\n",
       "    }\n",
       "</style>\n",
       "<table border=\"1\" class=\"dataframe\">\n",
       "  <thead>\n",
       "    <tr style=\"text-align: right;\">\n",
       "      <th></th>\n",
       "      <th>Rank</th>\n",
       "      <th>Release Group</th>\n",
       "      <th>Worldwide</th>\n",
       "      <th>Domestic</th>\n",
       "      <th>%</th>\n",
       "      <th>Foreign</th>\n",
       "      <th>%.1</th>\n",
       "      <th>filename</th>\n",
       "      <th>year</th>\n",
       "    </tr>\n",
       "  </thead>\n",
       "  <tbody>\n",
       "    <tr>\n",
       "      <th>0</th>\n",
       "      <td>1</td>\n",
       "      <td>Mission: Impossible II</td>\n",
       "      <td>$546,388,108</td>\n",
       "      <td>$215,409,889</td>\n",
       "      <td>39.4%</td>\n",
       "      <td>$330,978,219</td>\n",
       "      <td>60.6%</td>\n",
       "      <td>2000.csv</td>\n",
       "      <td>2000</td>\n",
       "    </tr>\n",
       "    <tr>\n",
       "      <th>1</th>\n",
       "      <td>2</td>\n",
       "      <td>Gladiator</td>\n",
       "      <td>$460,583,960</td>\n",
       "      <td>$187,705,427</td>\n",
       "      <td>40.8%</td>\n",
       "      <td>$272,878,533</td>\n",
       "      <td>59.2%</td>\n",
       "      <td>2000.csv</td>\n",
       "      <td>2000</td>\n",
       "    </tr>\n",
       "    <tr>\n",
       "      <th>2</th>\n",
       "      <td>3</td>\n",
       "      <td>Cast Away</td>\n",
       "      <td>$429,632,142</td>\n",
       "      <td>$233,632,142</td>\n",
       "      <td>54.4%</td>\n",
       "      <td>$196,000,000</td>\n",
       "      <td>45.6%</td>\n",
       "      <td>2000.csv</td>\n",
       "      <td>2000</td>\n",
       "    </tr>\n",
       "    <tr>\n",
       "      <th>3</th>\n",
       "      <td>4</td>\n",
       "      <td>What Women Want</td>\n",
       "      <td>$374,111,707</td>\n",
       "      <td>$182,811,707</td>\n",
       "      <td>48.9%</td>\n",
       "      <td>$191,300,000</td>\n",
       "      <td>51.1%</td>\n",
       "      <td>2000.csv</td>\n",
       "      <td>2000</td>\n",
       "    </tr>\n",
       "    <tr>\n",
       "      <th>4</th>\n",
       "      <td>5</td>\n",
       "      <td>Dinosaur</td>\n",
       "      <td>$349,822,765</td>\n",
       "      <td>$137,748,063</td>\n",
       "      <td>39.4%</td>\n",
       "      <td>$212,074,702</td>\n",
       "      <td>60.6%</td>\n",
       "      <td>2000.csv</td>\n",
       "      <td>2000</td>\n",
       "    </tr>\n",
       "  </tbody>\n",
       "</table>\n",
       "</div>"
      ],
      "text/plain": [
       "   Rank           Release Group     Worldwide      Domestic      %  \\\n",
       "0     1  Mission: Impossible II  $546,388,108  $215,409,889  39.4%   \n",
       "1     2               Gladiator  $460,583,960  $187,705,427  40.8%   \n",
       "2     3               Cast Away  $429,632,142  $233,632,142  54.4%   \n",
       "3     4         What Women Want  $374,111,707  $182,811,707  48.9%   \n",
       "4     5                Dinosaur  $349,822,765  $137,748,063  39.4%   \n",
       "\n",
       "        Foreign    %.1  filename  year  \n",
       "0  $330,978,219  60.6%  2000.csv  2000  \n",
       "1  $272,878,533  59.2%  2000.csv  2000  \n",
       "2  $196,000,000  45.6%  2000.csv  2000  \n",
       "3  $191,300,000  51.1%  2000.csv  2000  \n",
       "4  $212,074,702  60.6%  2000.csv  2000  "
      ]
     },
     "execution_count": 74,
     "metadata": {},
     "output_type": "execute_result"
    }
   ],
   "source": [
    "entire_df.head()"
   ]
  },
  {
   "cell_type": "code",
   "execution_count": 77,
   "metadata": {},
   "outputs": [],
   "source": [
    "dataset = os.path.join(cache_dir,'movies-box-office-dataset.csv')\n",
    "entire_df.to_csv(dataset,index=False)"
   ]
  },
  {
   "cell_type": "code",
   "execution_count": null,
   "metadata": {},
   "outputs": [],
   "source": []
  }
 ],
 "metadata": {
  "kernelspec": {
   "display_name": "Python 3",
   "language": "python",
   "name": "python3"
  },
  "language_info": {
   "codemirror_mode": {
    "name": "ipython",
    "version": 3
   },
   "file_extension": ".py",
   "mimetype": "text/x-python",
   "name": "python",
   "nbconvert_exporter": "python",
   "pygments_lexer": "ipython3",
   "version": "3.7.6"
  }
 },
 "nbformat": 4,
 "nbformat_minor": 4
}
