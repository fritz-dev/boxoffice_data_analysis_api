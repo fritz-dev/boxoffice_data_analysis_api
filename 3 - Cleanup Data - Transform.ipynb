{
 "cells": [
  {
   "cell_type": "code",
   "execution_count": null,
   "metadata": {},
   "outputs": [],
   "source": [
    "import os\n",
    "import pandas as pd"
   ]
  },
  {
   "cell_type": "code",
   "execution_count": null,
   "metadata": {},
   "outputs": [],
   "source": [
    "%config IPCompleter.greedy=True"
   ]
  },
  {
   "cell_type": "code",
   "execution_count": null,
   "metadata": {},
   "outputs": [],
   "source": [
    "cwd = os.getcwd()\n",
    "data_dir = os.path.join(cwd,'data')\n",
    "cache_dir = os.path.join(cwd,'cache')\n",
    "working_file = os.path.join(cache_dir,'movies-box-office-dataset.csv')\n",
    "output_file = os.path.join(cache_dir,'movies-box-office-dataset-cleaned.csv')"
   ]
  },
  {
   "cell_type": "code",
   "execution_count": null,
   "metadata": {},
   "outputs": [],
   "source": [
    "df = pd.read_csv(working_file)"
   ]
  },
  {
   "cell_type": "code",
   "execution_count": null,
   "metadata": {},
   "outputs": [],
   "source": [
    "df['Rank'] = -1"
   ]
  },
  {
   "cell_type": "code",
   "execution_count": null,
   "metadata": {},
   "outputs": [],
   "source": [
    "df['Domestic %'] = df['%']\n",
    "df['Foreign %'] = df['%.1']\n",
    "#df.head()"
   ]
  },
  {
   "cell_type": "code",
   "execution_count": null,
   "metadata": {},
   "outputs": [],
   "source": [
    "df = df.drop(columns=['%','%.1'])"
   ]
  },
  {
   "cell_type": "code",
   "execution_count": null,
   "metadata": {},
   "outputs": [],
   "source": [
    "to_clean_cols = ['Worldwide','Domestic','Foreign']\n",
    "\n",
    "def curr_to_int(current_val):\n",
    "    curr = current_val.replace(\"$\",\"\").replace(\",\",\"\")\n",
    "    try:\n",
    "        curr = int(curr)\n",
    "    except:\n",
    "        curr = 0\n",
    "    return curr\n",
    "\n",
    "def clean_col(row):\n",
    "    #print(row)\n",
    "    for col in to_clean_cols:\n",
    "        #row[col] = row[col].replace(\"$\",\"\").replace(\",\",\"\")\n",
    "        current_val = row[col]\n",
    "        row[col] = curr_to_int(current_val)\n",
    "    return row\n",
    "\n",
    "df_cleaned = df.apply(clean_col,axis=1) #replace the df\n",
    "#df_cleaned.head()"
   ]
  },
  {
   "cell_type": "code",
   "execution_count": null,
   "metadata": {},
   "outputs": [],
   "source": [
    "#sort the value by Worldwide and then rearragne the rank based on index + 1"
   ]
  },
  {
   "cell_type": "code",
   "execution_count": null,
   "metadata": {},
   "outputs": [],
   "source": [
    "df_cleaned.sort_values(by=['Worldwide'],inplace=True,ascending=False)"
   ]
  },
  {
   "cell_type": "code",
   "execution_count": null,
   "metadata": {},
   "outputs": [],
   "source": [
    "df_cleaned.reset_index(inplace=True,drop=True)\n",
    "df_cleaned.head()"
   ]
  },
  {
   "cell_type": "code",
   "execution_count": null,
   "metadata": {
    "scrolled": true
   },
   "outputs": [],
   "source": [
    "df_cleaned['Rank'] =  df_cleaned.index + 1"
   ]
  },
  {
   "cell_type": "code",
   "execution_count": null,
   "metadata": {},
   "outputs": [],
   "source": [
    "#changed data types of percentage columns to float\n",
    "df_cleaned['Domestic %'] = df_cleaned['Domestic'] / df_cleaned['Worldwide']\n",
    "df_cleaned['Foreign %'] = df_cleaned['Foreign'] / df_cleaned['Worldwide'] b"
   ]
  },
  {
   "cell_type": "code",
   "execution_count": null,
   "metadata": {},
   "outputs": [],
   "source": [
    "df_cleaned.to_csv(output_file,index=False)"
   ]
  },
  {
   "cell_type": "code",
   "execution_count": null,
   "metadata": {},
   "outputs": [],
   "source": []
  }
 ],
 "metadata": {
  "kernelspec": {
   "display_name": "Python 3",
   "language": "python",
   "name": "python3"
  },
  "language_info": {
   "codemirror_mode": {
    "name": "ipython",
    "version": 3
   },
   "file_extension": ".py",
   "mimetype": "text/x-python",
   "name": "python",
   "nbconvert_exporter": "python",
   "pygments_lexer": "ipython3",
   "version": "3.7.6"
  }
 },
 "nbformat": 4,
 "nbformat_minor": 4
}
